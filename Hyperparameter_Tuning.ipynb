{
  "nbformat": 4,
  "nbformat_minor": 0,
  "metadata": {
    "colab": {
      "provenance": [],
      "authorship_tag": "ABX9TyMPDDwusPDYsfU6N+KdQSq4",
      "include_colab_link": true
    },
    "kernelspec": {
      "name": "python3",
      "display_name": "Python 3"
    },
    "language_info": {
      "name": "python"
    }
  },
  "cells": [
    {
      "cell_type": "markdown",
      "metadata": {
        "id": "view-in-github",
        "colab_type": "text"
      },
      "source": [
        "<a href=\"https://colab.research.google.com/github/Sanyam0101/PYTHON-data-SCIENCE-NOTEBOOKS/blob/main/Hyperparameter_Tuning.ipynb\" target=\"_parent\"><img src=\"https://colab.research.google.com/assets/colab-badge.svg\" alt=\"Open In Colab\"/></a>"
      ]
    },
    {
      "cell_type": "code",
      "execution_count": 3,
      "metadata": {
        "colab": {
          "base_uri": "https://localhost:8080/"
        },
        "id": "yH9VzU9fzujP",
        "outputId": "794ba6e4-ba4e-43c7-e67d-793523ba4f57"
      },
      "outputs": [
        {
          "output_type": "stream",
          "name": "stdout",
          "text": [
            "Mean Squared Error:,0.06362439921332456\n",
            "coefficients: [60.50305581 98.52475354 64.3929265  56.96061238 35.52928502]\n"
          ]
        }
      ],
      "source": [
        "from sklearn.linear_model import Lasso\n",
        "from sklearn.model_selection import train_test_split\n",
        "from sklearn.datasets import make_regression\n",
        "from sklearn.metrics import mean_squared_error\n",
        "import matplotlib.pyplot as plt\n",
        "\n",
        "X,y = make_regression(n_samples=100, n_features=5, noise=0.1,random_state = 42)\n",
        "X_train,X_test,y_train,y_test = train_test_split(X,y,test_size=0.2,random_state=42)\n",
        "\n",
        "lasso = Lasso(alpha=0.1)\n",
        "lasso.fit(X_train,y_train)\n",
        "\n",
        "y_pred = lasso.predict(X_test)\n",
        "mse = mean_squared_error(y_test,y_pred)\n",
        "print(f\"Mean Squared Error:,{mse}\")\n",
        "\n",
        "print(\"coefficients:\",lasso.coef_)"
      ]
    },
    {
      "cell_type": "code",
      "source": [
        "from sklearn.linear_model import Ridge\n",
        "from sklearn.model_selection import train_test_split\n",
        "from sklearn.datasets import make_regression\n",
        "from sklearn.metrics import mean_squared_error\n",
        "import matplotlib.pyplot as plt\n",
        "\n",
        "ridge = Ridge(alpha=1.0)\n",
        "ridge.fit(X_train, y_train)\n",
        "y_pred = ridge.predict(X_test)\n",
        "\n",
        "mse = mean_squared_error(y_test, y_pred)\n",
        "print(\"Mean Squared Error:\", mse)\n",
        "print(\"Coefficients:\", ridge.coef_)\n"
      ],
      "metadata": {
        "colab": {
          "base_uri": "https://localhost:8080/"
        },
        "id": "V-0olm7T1fZE",
        "outputId": "14cf4ade-4a04-4c16-83df-09a2a549e38c"
      },
      "execution_count": 4,
      "outputs": [
        {
          "output_type": "stream",
          "name": "stdout",
          "text": [
            "Mean Squared Error: 4.114050771972589\n",
            "Coefficients: [59.87954432 97.15091098 63.24364738 56.31999433 35.34591136]\n"
          ]
        }
      ]
    },
    {
      "cell_type": "code",
      "source": [
        "from sklearn.linear_model import ElasticNet\n",
        "from sklearn.datasets import make_regression\n",
        "from sklearn.model_selection import train_test_split\n",
        "from sklearn.metrics import mean_squared_error\n",
        "\n",
        "X, y = make_regression(n_samples=100, n_features=10, noise=0.1, random_state=42)\n",
        "X_train, X_test, y_train, y_test = train_test_split(X, y, test_size=0.2, random_state=42)\n",
        "\n",
        "model = ElasticNet(alpha=0.5, l1_ratio=0.5)\n",
        "model.fit(X_train, y_train)\n",
        "\n",
        "y_pred = model.predict(X_test)\n",
        "mse = mean_squared_error(y_test, y_pred)\n",
        "print(\"Mean Squared Error:\", mse)\n",
        "print(\"Coefficients:\", model.coef_)\n",
        "\n",
        "y_pred = model.predict(X_test)\n",
        "mse = mean_squared_error(y_test, y_pred)"
      ],
      "metadata": {
        "colab": {
          "base_uri": "https://localhost:8080/"
        },
        "id": "7oVXADzJ15Xs",
        "outputId": "97db513b-9b23-425c-aa2b-8bc938699c10"
      },
      "execution_count": 5,
      "outputs": [
        {
          "output_type": "stream",
          "name": "stdout",
          "text": [
            "Mean Squared Error: 2920.777816470726\n",
            "Coefficients: [17.82302412 40.30240046  4.43990454 49.14498634 70.91183374 55.64937322\n",
            " 70.07659154  2.89618348  3.92055114 51.94300462]\n"
          ]
        }
      ]
    },
    {
      "cell_type": "markdown",
      "source": [
        "# hyperparameter tuning"
      ],
      "metadata": {
        "id": "WCeqREhF49DC"
      }
    },
    {
      "cell_type": "code",
      "source": [
        "from sklearn.linear_model import LogisticRegression\n",
        "from sklearn.model_selection import GridSearchCV\n",
        "import numpy as np\n",
        "from sklearn.datasets import make_classification\n",
        "\n",
        "X,y = make_classification(n_samples=1000,n_features=20, n_informative =10,n_classes =2, random_state=42)\n",
        "\n",
        "c_space = np.logspace(-5,8,15)\n",
        "param_grid = {'C':c_space}\n",
        "\n",
        "logreg = LogisticRegression()\n",
        "logreg_cv = GridSearchCV(logreg,param_grid,cv=5)\n",
        "logreg_cv.fit(X,y)\n",
        "\n",
        "print(\"Tuned Logistic Regression Parameters:\",logreg_cv.best_params_)\n",
        "print(\"Best score is:\",logreg_cv.best_score_)"
      ],
      "metadata": {
        "colab": {
          "base_uri": "https://localhost:8080/"
        },
        "id": "Ik2QtDvY2sjE",
        "outputId": "23136be0-59e2-4ab2-c135-f403d32b97e1"
      },
      "execution_count": 7,
      "outputs": [
        {
          "output_type": "stream",
          "name": "stdout",
          "text": [
            "Tuned Logistic Regression Parameters: {'C': np.float64(0.006105402296585327)}\n",
            "Best score is: 0.853\n"
          ]
        }
      ]
    },
    {
      "cell_type": "code",
      "source": [
        "import numpy as np\n",
        "from sklearn.datasets import make_classification\n",
        "\n",
        "X, y = make_classification(n_samples=1000, n_features=20, n_informative=10, n_classes=2, random_state=42)\n",
        "\n",
        "from scipy.stats import randint\n",
        "from sklearn.tree import DecisionTreeClassifier\n",
        "from sklearn.model_selection import RandomizedSearchCV\n",
        "\n",
        "param_dist = {\n",
        "    \"max_depth\": [3, None],\n",
        "    \"max_features\": randint(1, 9),\n",
        "    \"min_samples_leaf\": randint(1, 9),\n",
        "    \"criterion\": [\"gini\", \"entropy\"]\n",
        "}\n",
        "\n",
        "tree = DecisionTreeClassifier()\n",
        "tree_cv = RandomizedSearchCV(tree, param_dist, cv=5)\n",
        "tree_cv.fit(X, y)\n",
        "\n",
        "print(\"Tuned Decision Tree Parameters: {}\".format(tree_cv.best_params_))\n",
        "print(\"Best score is {}\".format(tree_cv.best_score_))"
      ],
      "metadata": {
        "colab": {
          "base_uri": "https://localhost:8080/"
        },
        "id": "CR1zJSCS7NJ1",
        "outputId": "8d46b9e5-6ca9-433f-b6c8-a6e348d72114"
      },
      "execution_count": 8,
      "outputs": [
        {
          "output_type": "stream",
          "name": "stdout",
          "text": [
            "Tuned Decision Tree Parameters: {'criterion': 'gini', 'max_depth': None, 'max_features': 3, 'min_samples_leaf': 5}\n",
            "Best score is 0.8190000000000002\n"
          ]
        }
      ]
    }
  ]
}