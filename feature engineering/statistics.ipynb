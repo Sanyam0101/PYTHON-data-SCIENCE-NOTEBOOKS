{
  "nbformat": 4,
  "nbformat_minor": 0,
  "metadata": {
    "colab": {
      "provenance": [],
      "authorship_tag": "ABX9TyOqtW5/jRhDuUCQdQdgpqFQ",
      "include_colab_link": true
    },
    "kernelspec": {
      "name": "python3",
      "display_name": "Python 3"
    },
    "language_info": {
      "name": "python"
    }
  },
  "cells": [
    {
      "cell_type": "markdown",
      "metadata": {
        "id": "view-in-github",
        "colab_type": "text"
      },
      "source": [
        "<a href=\"https://colab.research.google.com/github/Sanyam0101/PYTHON-data-SCIENCE-NOTEBOOKS/blob/main/feature%20engineering/statistics.ipynb\" target=\"_parent\"><img src=\"https://colab.research.google.com/assets/colab-badge.svg\" alt=\"Open In Colab\"/></a>"
      ]
    },
    {
      "cell_type": "code",
      "execution_count": 2,
      "metadata": {
        "id": "09X1cztoRX37",
        "colab": {
          "base_uri": "https://localhost:8080/"
        },
        "outputId": "c2e73adb-05d1-429f-c017-7d2616bb8a03"
      },
      "outputs": [
        {
          "output_type": "stream",
          "name": "stdout",
          "text": [
            "Mean = 2.5\n"
          ]
        }
      ],
      "source": [
        "import numpy as np\n",
        "\n",
        "arr =[1,2,3,4]\n",
        "mean = np.mean(arr)\n",
        "print(\"Mean =\",mean)"
      ]
    },
    {
      "cell_type": "code",
      "source": [
        "import scipy.stats as stats\n",
        "\n",
        "arr =[1,2,3,4]\n",
        "mode = stats.mode(arr)\n",
        "print(\"Mode =\",mode)"
      ],
      "metadata": {
        "colab": {
          "base_uri": "https://localhost:8080/"
        },
        "id": "O2c-C7qMSEqs",
        "outputId": "7893a181-b2f8-495b-f393-c87743bfbc19"
      },
      "execution_count": 3,
      "outputs": [
        {
          "output_type": "stream",
          "name": "stdout",
          "text": [
            "Mode = ModeResult(mode=np.int64(1), count=np.int64(1))\n"
          ]
        }
      ]
    },
    {
      "cell_type": "code",
      "source": [
        "import numpy as np\n",
        "\n",
        "arr = [1,2,2,4]\n",
        "median = np.median(arr)\n",
        "print(\"Median =\",median)"
      ],
      "metadata": {
        "colab": {
          "base_uri": "https://localhost:8080/"
        },
        "id": "NzLoy0HOSPup",
        "outputId": "3e45449c-2bd6-4c39-8252-22ff047bf359"
      },
      "execution_count": 4,
      "outputs": [
        {
          "output_type": "stream",
          "name": "stdout",
          "text": [
            "Median = 2.0\n"
          ]
        }
      ]
    },
    {
      "cell_type": "code",
      "source": [
        "import numpy as np\n",
        "\n",
        "arr = [1,4,5,2,6,7]\n",
        "maximum = max(arr)\n",
        "minimum = min(arr)\n",
        "print(\"Maximum =\",maximum)\n",
        "print(\"Minimum =\",minimum)"
      ],
      "metadata": {
        "colab": {
          "base_uri": "https://localhost:8080/"
        },
        "id": "zEydPJKhSbSQ",
        "outputId": "49bee165-0249-4f0d-b786-1e621350d2f3"
      },
      "execution_count": 5,
      "outputs": [
        {
          "output_type": "stream",
          "name": "stdout",
          "text": [
            "Maximum = 7\n",
            "Minimum = 1\n"
          ]
        }
      ]
    },
    {
      "cell_type": "code",
      "source": [
        "import numpy as np\n",
        "\n",
        "arr = [1,4,5,2,6,7]\n",
        "maximum = max(arr)\n",
        "minimum = min(arr)\n",
        "RANGE = maximum - minimum\n",
        "print(\"Maximum = {}, Minimum = {} and Range = {}\".format(\n",
        "    maximum, minimum, RANGE))"
      ],
      "metadata": {
        "colab": {
          "base_uri": "https://localhost:8080/"
        },
        "id": "md-2nVnLSpLv",
        "outputId": "82e9d41b-5351-4747-8a34-93cd41f97e54"
      },
      "execution_count": 7,
      "outputs": [
        {
          "output_type": "stream",
          "name": "stdout",
          "text": [
            "Maximum = 7, Minimum = 1 and Range = 6\n"
          ]
        }
      ]
    },
    {
      "cell_type": "code",
      "source": [
        "import statistics\n",
        "\n",
        "arr=[1,2,4,4,5,6]\n",
        "print(\"Var =\",(statistics.variance(arr)))"
      ],
      "metadata": {
        "colab": {
          "base_uri": "https://localhost:8080/"
        },
        "id": "imSa1yNeTWx9",
        "outputId": "d3c580e9-b2cd-4632-ea21-4867952d3904"
      },
      "execution_count": 8,
      "outputs": [
        {
          "output_type": "stream",
          "name": "stdout",
          "text": [
            "Var = 3.466666666666667\n"
          ]
        }
      ]
    },
    {
      "cell_type": "code",
      "source": [
        "import statistics\n",
        "arr = [1, 2, 3, 4, 5]\n",
        "print(\"Std = \", (statistics.stdev(arr)))"
      ],
      "metadata": {
        "colab": {
          "base_uri": "https://localhost:8080/"
        },
        "id": "PoFxl5X2T3d3",
        "outputId": "77824e3f-12d0-4a8e-fe01-d2d8b7728a2a"
      },
      "execution_count": 9,
      "outputs": [
        {
          "output_type": "stream",
          "name": "stdout",
          "text": [
            "Std =  1.5811388300841898\n"
          ]
        }
      ]
    },
    {
      "cell_type": "markdown",
      "source": [
        "#feature engineering (One-Hot Encoding) practice"
      ],
      "metadata": {
        "id": "SXAe8tJKY4pQ"
      }
    },
    {
      "cell_type": "code",
      "source": [
        "import pandas as pd\n",
        "data = {'Color': ['Red', 'Blue', 'Green', 'Blue']}\n",
        "df = pd.DataFrame(data)\n",
        "\n",
        "df_encoder = pd.get_dummies(df)\n",
        "print(df_encoder)"
      ],
      "metadata": {
        "colab": {
          "base_uri": "https://localhost:8080/"
        },
        "id": "VsNRJEgNY118",
        "outputId": "f04cb82a-a144-40b1-d896-1955f0fab1ef"
      },
      "execution_count": 10,
      "outputs": [
        {
          "output_type": "stream",
          "name": "stdout",
          "text": [
            "   Color_Blue  Color_Green  Color_Red\n",
            "0       False        False       True\n",
            "1        True        False      False\n",
            "2       False         True      False\n",
            "3        True        False      False\n"
          ]
        }
      ]
    },
    {
      "cell_type": "markdown",
      "source": [
        "# Binning practice"
      ],
      "metadata": {
        "id": "BgurtJ2eZT4r"
      }
    },
    {
      "cell_type": "code",
      "source": [
        "import pandas as pd\n",
        "\n",
        "data = {'Age': [23, 45, 18, 34, 67, 50, 21]}\n",
        "df = pd.DataFrame(data)\n",
        "\n",
        "bins = [0, 20, 40, 60, 100]\n",
        "labels = ['0-20', '21-40', '41-60', '61+']\n",
        "df['AgeGroup'] = pd.cut(df['Age'], bins=bins, labels=labels)\n",
        "print(df)\n"
      ],
      "metadata": {
        "colab": {
          "base_uri": "https://localhost:8080/"
        },
        "id": "_MHbui8UZScc",
        "outputId": "57c8d554-c2d1-4107-b610-ca271442fbf1"
      },
      "execution_count": 11,
      "outputs": [
        {
          "output_type": "stream",
          "name": "stdout",
          "text": [
            "   Age AgeGroup\n",
            "0   23    21-40\n",
            "1   45    41-60\n",
            "2   18     0-20\n",
            "3   34    21-40\n",
            "4   67      61+\n",
            "5   50    41-60\n",
            "6   21    21-40\n"
          ]
        }
      ]
    }
  ]
}